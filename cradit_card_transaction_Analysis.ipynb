{
 "cells": [
  {
   "cell_type": "code",
   "execution_count": 1,
   "id": "6f573ecd-6cf3-4130-bafe-36d1c667bf78",
   "metadata": {},
   "outputs": [],
   "source": [
    "import pandas as pd\n",
    "import numpy as np\n",
    "import matplotlib.pyplot as plt\n",
    "import seaborn as sb\n"
   ]
  },
  {
   "cell_type": "code",
   "execution_count": 2,
   "id": "39da7950-3ed2-42c0-8d4e-c790c4aa8517",
   "metadata": {},
   "outputs": [],
   "source": [
    "df=pd.read_csv(\"../DataSets/Credit card transactions - India - Simple.csv\")"
   ]
  },
  {
   "cell_type": "code",
   "execution_count": 3,
   "id": "0445a02d-6226-4a7e-aa55-53fe6166d85a",
   "metadata": {},
   "outputs": [
    {
     "data": {
      "text/html": [
       "<div>\n",
       "<style scoped>\n",
       "    .dataframe tbody tr th:only-of-type {\n",
       "        vertical-align: middle;\n",
       "    }\n",
       "\n",
       "    .dataframe tbody tr th {\n",
       "        vertical-align: top;\n",
       "    }\n",
       "\n",
       "    .dataframe thead th {\n",
       "        text-align: right;\n",
       "    }\n",
       "</style>\n",
       "<table border=\"1\" class=\"dataframe\">\n",
       "  <thead>\n",
       "    <tr style=\"text-align: right;\">\n",
       "      <th></th>\n",
       "      <th>index</th>\n",
       "      <th>City</th>\n",
       "      <th>Date</th>\n",
       "      <th>Card Type</th>\n",
       "      <th>Exp Type</th>\n",
       "      <th>Gender</th>\n",
       "      <th>Amount</th>\n",
       "    </tr>\n",
       "  </thead>\n",
       "  <tbody>\n",
       "    <tr>\n",
       "      <th>0</th>\n",
       "      <td>0</td>\n",
       "      <td>Delhi, India</td>\n",
       "      <td>29-Oct-14</td>\n",
       "      <td>Gold</td>\n",
       "      <td>Bills</td>\n",
       "      <td>F</td>\n",
       "      <td>82475</td>\n",
       "    </tr>\n",
       "    <tr>\n",
       "      <th>1</th>\n",
       "      <td>1</td>\n",
       "      <td>Greater Mumbai, India</td>\n",
       "      <td>22-Aug-14</td>\n",
       "      <td>Platinum</td>\n",
       "      <td>Bills</td>\n",
       "      <td>F</td>\n",
       "      <td>32555</td>\n",
       "    </tr>\n",
       "    <tr>\n",
       "      <th>2</th>\n",
       "      <td>2</td>\n",
       "      <td>Bengaluru, India</td>\n",
       "      <td>27-Aug-14</td>\n",
       "      <td>Silver</td>\n",
       "      <td>Bills</td>\n",
       "      <td>F</td>\n",
       "      <td>101738</td>\n",
       "    </tr>\n",
       "    <tr>\n",
       "      <th>3</th>\n",
       "      <td>3</td>\n",
       "      <td>Greater Mumbai, India</td>\n",
       "      <td>12-Apr-14</td>\n",
       "      <td>Signature</td>\n",
       "      <td>Bills</td>\n",
       "      <td>F</td>\n",
       "      <td>123424</td>\n",
       "    </tr>\n",
       "    <tr>\n",
       "      <th>4</th>\n",
       "      <td>4</td>\n",
       "      <td>Bengaluru, India</td>\n",
       "      <td>5-May-15</td>\n",
       "      <td>Gold</td>\n",
       "      <td>Bills</td>\n",
       "      <td>F</td>\n",
       "      <td>171574</td>\n",
       "    </tr>\n",
       "    <tr>\n",
       "      <th>...</th>\n",
       "      <td>...</td>\n",
       "      <td>...</td>\n",
       "      <td>...</td>\n",
       "      <td>...</td>\n",
       "      <td>...</td>\n",
       "      <td>...</td>\n",
       "      <td>...</td>\n",
       "    </tr>\n",
       "    <tr>\n",
       "      <th>26047</th>\n",
       "      <td>26047</td>\n",
       "      <td>Kolkata, India</td>\n",
       "      <td>22-Jun-14</td>\n",
       "      <td>Silver</td>\n",
       "      <td>Travel</td>\n",
       "      <td>F</td>\n",
       "      <td>128191</td>\n",
       "    </tr>\n",
       "    <tr>\n",
       "      <th>26048</th>\n",
       "      <td>26048</td>\n",
       "      <td>Pune, India</td>\n",
       "      <td>3-Aug-14</td>\n",
       "      <td>Signature</td>\n",
       "      <td>Travel</td>\n",
       "      <td>M</td>\n",
       "      <td>246316</td>\n",
       "    </tr>\n",
       "    <tr>\n",
       "      <th>26049</th>\n",
       "      <td>26049</td>\n",
       "      <td>Hyderabad, India</td>\n",
       "      <td>16-Jan-15</td>\n",
       "      <td>Silver</td>\n",
       "      <td>Travel</td>\n",
       "      <td>M</td>\n",
       "      <td>265019</td>\n",
       "    </tr>\n",
       "    <tr>\n",
       "      <th>26050</th>\n",
       "      <td>26050</td>\n",
       "      <td>Kanpur, India</td>\n",
       "      <td>14-Sep-14</td>\n",
       "      <td>Silver</td>\n",
       "      <td>Travel</td>\n",
       "      <td>M</td>\n",
       "      <td>88174</td>\n",
       "    </tr>\n",
       "    <tr>\n",
       "      <th>26051</th>\n",
       "      <td>26051</td>\n",
       "      <td>Hyderabad, India</td>\n",
       "      <td>19-Oct-13</td>\n",
       "      <td>Signature</td>\n",
       "      <td>Bills</td>\n",
       "      <td>M</td>\n",
       "      <td>184410</td>\n",
       "    </tr>\n",
       "  </tbody>\n",
       "</table>\n",
       "<p>26052 rows × 7 columns</p>\n",
       "</div>"
      ],
      "text/plain": [
       "       index                   City       Date  Card Type Exp Type Gender  \\\n",
       "0          0           Delhi, India  29-Oct-14       Gold    Bills      F   \n",
       "1          1  Greater Mumbai, India  22-Aug-14   Platinum    Bills      F   \n",
       "2          2       Bengaluru, India  27-Aug-14     Silver    Bills      F   \n",
       "3          3  Greater Mumbai, India  12-Apr-14  Signature    Bills      F   \n",
       "4          4       Bengaluru, India   5-May-15       Gold    Bills      F   \n",
       "...      ...                    ...        ...        ...      ...    ...   \n",
       "26047  26047         Kolkata, India  22-Jun-14     Silver   Travel      F   \n",
       "26048  26048            Pune, India   3-Aug-14  Signature   Travel      M   \n",
       "26049  26049       Hyderabad, India  16-Jan-15     Silver   Travel      M   \n",
       "26050  26050          Kanpur, India  14-Sep-14     Silver   Travel      M   \n",
       "26051  26051       Hyderabad, India  19-Oct-13  Signature    Bills      M   \n",
       "\n",
       "       Amount  \n",
       "0       82475  \n",
       "1       32555  \n",
       "2      101738  \n",
       "3      123424  \n",
       "4      171574  \n",
       "...       ...  \n",
       "26047  128191  \n",
       "26048  246316  \n",
       "26049  265019  \n",
       "26050   88174  \n",
       "26051  184410  \n",
       "\n",
       "[26052 rows x 7 columns]"
      ]
     },
     "execution_count": 3,
     "metadata": {},
     "output_type": "execute_result"
    }
   ],
   "source": [
    "df"
   ]
  },
  {
   "cell_type": "code",
   "execution_count": 4,
   "id": "d0be7f54-6e22-4268-b77b-3daf439d1aea",
   "metadata": {},
   "outputs": [],
   "source": [
    "df.Date=df.Date.astype('datetime64[ns]')"
   ]
  },
  {
   "cell_type": "code",
   "execution_count": 5,
   "id": "430ab0e8-9d9b-4387-9e5d-20076a3b866b",
   "metadata": {},
   "outputs": [],
   "source": [
    "df['Year'] = df['Date'].dt.year\n",
    "df['Month'] = df['Date'].dt.month  \n"
   ]
  },
  {
   "cell_type": "code",
   "execution_count": 6,
   "id": "e47e42b2-7f58-435a-98bd-c4280160e987",
   "metadata": {},
   "outputs": [
    {
     "data": {
      "text/html": [
       "<div>\n",
       "<style scoped>\n",
       "    .dataframe tbody tr th:only-of-type {\n",
       "        vertical-align: middle;\n",
       "    }\n",
       "\n",
       "    .dataframe tbody tr th {\n",
       "        vertical-align: top;\n",
       "    }\n",
       "\n",
       "    .dataframe thead th {\n",
       "        text-align: right;\n",
       "    }\n",
       "</style>\n",
       "<table border=\"1\" class=\"dataframe\">\n",
       "  <thead>\n",
       "    <tr style=\"text-align: right;\">\n",
       "      <th></th>\n",
       "      <th>index</th>\n",
       "      <th>City</th>\n",
       "      <th>Date</th>\n",
       "      <th>Card Type</th>\n",
       "      <th>Exp Type</th>\n",
       "      <th>Gender</th>\n",
       "      <th>Amount</th>\n",
       "      <th>Year</th>\n",
       "      <th>Month</th>\n",
       "    </tr>\n",
       "  </thead>\n",
       "  <tbody>\n",
       "    <tr>\n",
       "      <th>0</th>\n",
       "      <td>0</td>\n",
       "      <td>Delhi, India</td>\n",
       "      <td>2014-10-29</td>\n",
       "      <td>Gold</td>\n",
       "      <td>Bills</td>\n",
       "      <td>F</td>\n",
       "      <td>82475</td>\n",
       "      <td>2014</td>\n",
       "      <td>10</td>\n",
       "    </tr>\n",
       "    <tr>\n",
       "      <th>1</th>\n",
       "      <td>1</td>\n",
       "      <td>Greater Mumbai, India</td>\n",
       "      <td>2014-08-22</td>\n",
       "      <td>Platinum</td>\n",
       "      <td>Bills</td>\n",
       "      <td>F</td>\n",
       "      <td>32555</td>\n",
       "      <td>2014</td>\n",
       "      <td>8</td>\n",
       "    </tr>\n",
       "    <tr>\n",
       "      <th>2</th>\n",
       "      <td>2</td>\n",
       "      <td>Bengaluru, India</td>\n",
       "      <td>2014-08-27</td>\n",
       "      <td>Silver</td>\n",
       "      <td>Bills</td>\n",
       "      <td>F</td>\n",
       "      <td>101738</td>\n",
       "      <td>2014</td>\n",
       "      <td>8</td>\n",
       "    </tr>\n",
       "    <tr>\n",
       "      <th>3</th>\n",
       "      <td>3</td>\n",
       "      <td>Greater Mumbai, India</td>\n",
       "      <td>2014-04-12</td>\n",
       "      <td>Signature</td>\n",
       "      <td>Bills</td>\n",
       "      <td>F</td>\n",
       "      <td>123424</td>\n",
       "      <td>2014</td>\n",
       "      <td>4</td>\n",
       "    </tr>\n",
       "    <tr>\n",
       "      <th>4</th>\n",
       "      <td>4</td>\n",
       "      <td>Bengaluru, India</td>\n",
       "      <td>2015-05-05</td>\n",
       "      <td>Gold</td>\n",
       "      <td>Bills</td>\n",
       "      <td>F</td>\n",
       "      <td>171574</td>\n",
       "      <td>2015</td>\n",
       "      <td>5</td>\n",
       "    </tr>\n",
       "    <tr>\n",
       "      <th>...</th>\n",
       "      <td>...</td>\n",
       "      <td>...</td>\n",
       "      <td>...</td>\n",
       "      <td>...</td>\n",
       "      <td>...</td>\n",
       "      <td>...</td>\n",
       "      <td>...</td>\n",
       "      <td>...</td>\n",
       "      <td>...</td>\n",
       "    </tr>\n",
       "    <tr>\n",
       "      <th>26047</th>\n",
       "      <td>26047</td>\n",
       "      <td>Kolkata, India</td>\n",
       "      <td>2014-06-22</td>\n",
       "      <td>Silver</td>\n",
       "      <td>Travel</td>\n",
       "      <td>F</td>\n",
       "      <td>128191</td>\n",
       "      <td>2014</td>\n",
       "      <td>6</td>\n",
       "    </tr>\n",
       "    <tr>\n",
       "      <th>26048</th>\n",
       "      <td>26048</td>\n",
       "      <td>Pune, India</td>\n",
       "      <td>2014-08-03</td>\n",
       "      <td>Signature</td>\n",
       "      <td>Travel</td>\n",
       "      <td>M</td>\n",
       "      <td>246316</td>\n",
       "      <td>2014</td>\n",
       "      <td>8</td>\n",
       "    </tr>\n",
       "    <tr>\n",
       "      <th>26049</th>\n",
       "      <td>26049</td>\n",
       "      <td>Hyderabad, India</td>\n",
       "      <td>2015-01-16</td>\n",
       "      <td>Silver</td>\n",
       "      <td>Travel</td>\n",
       "      <td>M</td>\n",
       "      <td>265019</td>\n",
       "      <td>2015</td>\n",
       "      <td>1</td>\n",
       "    </tr>\n",
       "    <tr>\n",
       "      <th>26050</th>\n",
       "      <td>26050</td>\n",
       "      <td>Kanpur, India</td>\n",
       "      <td>2014-09-14</td>\n",
       "      <td>Silver</td>\n",
       "      <td>Travel</td>\n",
       "      <td>M</td>\n",
       "      <td>88174</td>\n",
       "      <td>2014</td>\n",
       "      <td>9</td>\n",
       "    </tr>\n",
       "    <tr>\n",
       "      <th>26051</th>\n",
       "      <td>26051</td>\n",
       "      <td>Hyderabad, India</td>\n",
       "      <td>2013-10-19</td>\n",
       "      <td>Signature</td>\n",
       "      <td>Bills</td>\n",
       "      <td>M</td>\n",
       "      <td>184410</td>\n",
       "      <td>2013</td>\n",
       "      <td>10</td>\n",
       "    </tr>\n",
       "  </tbody>\n",
       "</table>\n",
       "<p>26052 rows × 9 columns</p>\n",
       "</div>"
      ],
      "text/plain": [
       "       index                   City       Date  Card Type Exp Type Gender  \\\n",
       "0          0           Delhi, India 2014-10-29       Gold    Bills      F   \n",
       "1          1  Greater Mumbai, India 2014-08-22   Platinum    Bills      F   \n",
       "2          2       Bengaluru, India 2014-08-27     Silver    Bills      F   \n",
       "3          3  Greater Mumbai, India 2014-04-12  Signature    Bills      F   \n",
       "4          4       Bengaluru, India 2015-05-05       Gold    Bills      F   \n",
       "...      ...                    ...        ...        ...      ...    ...   \n",
       "26047  26047         Kolkata, India 2014-06-22     Silver   Travel      F   \n",
       "26048  26048            Pune, India 2014-08-03  Signature   Travel      M   \n",
       "26049  26049       Hyderabad, India 2015-01-16     Silver   Travel      M   \n",
       "26050  26050          Kanpur, India 2014-09-14     Silver   Travel      M   \n",
       "26051  26051       Hyderabad, India 2013-10-19  Signature    Bills      M   \n",
       "\n",
       "       Amount  Year  Month  \n",
       "0       82475  2014     10  \n",
       "1       32555  2014      8  \n",
       "2      101738  2014      8  \n",
       "3      123424  2014      4  \n",
       "4      171574  2015      5  \n",
       "...       ...   ...    ...  \n",
       "26047  128191  2014      6  \n",
       "26048  246316  2014      8  \n",
       "26049  265019  2015      1  \n",
       "26050   88174  2014      9  \n",
       "26051  184410  2013     10  \n",
       "\n",
       "[26052 rows x 9 columns]"
      ]
     },
     "execution_count": 6,
     "metadata": {},
     "output_type": "execute_result"
    }
   ],
   "source": [
    "df"
   ]
  },
  {
   "cell_type": "code",
   "execution_count": 7,
   "id": "7aa18211-1a6a-49c2-866e-23dc193bdc01",
   "metadata": {},
   "outputs": [],
   "source": [
    "df=df.rename(columns={'Card Type':'Card_Type'})\n",
    "df=df.rename(columns={'Exp Type':'Exp_Type'})"
   ]
  },
  {
   "cell_type": "code",
   "execution_count": 8,
   "id": "f05762de-2b10-4256-af60-5c5dfc398d69",
   "metadata": {},
   "outputs": [
    {
     "data": {
      "text/html": [
       "<div>\n",
       "<style scoped>\n",
       "    .dataframe tbody tr th:only-of-type {\n",
       "        vertical-align: middle;\n",
       "    }\n",
       "\n",
       "    .dataframe tbody tr th {\n",
       "        vertical-align: top;\n",
       "    }\n",
       "\n",
       "    .dataframe thead th {\n",
       "        text-align: right;\n",
       "    }\n",
       "</style>\n",
       "<table border=\"1\" class=\"dataframe\">\n",
       "  <thead>\n",
       "    <tr style=\"text-align: right;\">\n",
       "      <th></th>\n",
       "      <th>index</th>\n",
       "      <th>City</th>\n",
       "      <th>Date</th>\n",
       "      <th>Card_Type</th>\n",
       "      <th>Exp_Type</th>\n",
       "      <th>Gender</th>\n",
       "      <th>Amount</th>\n",
       "      <th>Year</th>\n",
       "      <th>Month</th>\n",
       "    </tr>\n",
       "  </thead>\n",
       "  <tbody>\n",
       "    <tr>\n",
       "      <th>0</th>\n",
       "      <td>0</td>\n",
       "      <td>Delhi, India</td>\n",
       "      <td>2014-10-29</td>\n",
       "      <td>Gold</td>\n",
       "      <td>Bills</td>\n",
       "      <td>F</td>\n",
       "      <td>82475</td>\n",
       "      <td>2014</td>\n",
       "      <td>10</td>\n",
       "    </tr>\n",
       "    <tr>\n",
       "      <th>1</th>\n",
       "      <td>1</td>\n",
       "      <td>Greater Mumbai, India</td>\n",
       "      <td>2014-08-22</td>\n",
       "      <td>Platinum</td>\n",
       "      <td>Bills</td>\n",
       "      <td>F</td>\n",
       "      <td>32555</td>\n",
       "      <td>2014</td>\n",
       "      <td>8</td>\n",
       "    </tr>\n",
       "    <tr>\n",
       "      <th>2</th>\n",
       "      <td>2</td>\n",
       "      <td>Bengaluru, India</td>\n",
       "      <td>2014-08-27</td>\n",
       "      <td>Silver</td>\n",
       "      <td>Bills</td>\n",
       "      <td>F</td>\n",
       "      <td>101738</td>\n",
       "      <td>2014</td>\n",
       "      <td>8</td>\n",
       "    </tr>\n",
       "    <tr>\n",
       "      <th>3</th>\n",
       "      <td>3</td>\n",
       "      <td>Greater Mumbai, India</td>\n",
       "      <td>2014-04-12</td>\n",
       "      <td>Signature</td>\n",
       "      <td>Bills</td>\n",
       "      <td>F</td>\n",
       "      <td>123424</td>\n",
       "      <td>2014</td>\n",
       "      <td>4</td>\n",
       "    </tr>\n",
       "    <tr>\n",
       "      <th>4</th>\n",
       "      <td>4</td>\n",
       "      <td>Bengaluru, India</td>\n",
       "      <td>2015-05-05</td>\n",
       "      <td>Gold</td>\n",
       "      <td>Bills</td>\n",
       "      <td>F</td>\n",
       "      <td>171574</td>\n",
       "      <td>2015</td>\n",
       "      <td>5</td>\n",
       "    </tr>\n",
       "    <tr>\n",
       "      <th>...</th>\n",
       "      <td>...</td>\n",
       "      <td>...</td>\n",
       "      <td>...</td>\n",
       "      <td>...</td>\n",
       "      <td>...</td>\n",
       "      <td>...</td>\n",
       "      <td>...</td>\n",
       "      <td>...</td>\n",
       "      <td>...</td>\n",
       "    </tr>\n",
       "    <tr>\n",
       "      <th>26047</th>\n",
       "      <td>26047</td>\n",
       "      <td>Kolkata, India</td>\n",
       "      <td>2014-06-22</td>\n",
       "      <td>Silver</td>\n",
       "      <td>Travel</td>\n",
       "      <td>F</td>\n",
       "      <td>128191</td>\n",
       "      <td>2014</td>\n",
       "      <td>6</td>\n",
       "    </tr>\n",
       "    <tr>\n",
       "      <th>26048</th>\n",
       "      <td>26048</td>\n",
       "      <td>Pune, India</td>\n",
       "      <td>2014-08-03</td>\n",
       "      <td>Signature</td>\n",
       "      <td>Travel</td>\n",
       "      <td>M</td>\n",
       "      <td>246316</td>\n",
       "      <td>2014</td>\n",
       "      <td>8</td>\n",
       "    </tr>\n",
       "    <tr>\n",
       "      <th>26049</th>\n",
       "      <td>26049</td>\n",
       "      <td>Hyderabad, India</td>\n",
       "      <td>2015-01-16</td>\n",
       "      <td>Silver</td>\n",
       "      <td>Travel</td>\n",
       "      <td>M</td>\n",
       "      <td>265019</td>\n",
       "      <td>2015</td>\n",
       "      <td>1</td>\n",
       "    </tr>\n",
       "    <tr>\n",
       "      <th>26050</th>\n",
       "      <td>26050</td>\n",
       "      <td>Kanpur, India</td>\n",
       "      <td>2014-09-14</td>\n",
       "      <td>Silver</td>\n",
       "      <td>Travel</td>\n",
       "      <td>M</td>\n",
       "      <td>88174</td>\n",
       "      <td>2014</td>\n",
       "      <td>9</td>\n",
       "    </tr>\n",
       "    <tr>\n",
       "      <th>26051</th>\n",
       "      <td>26051</td>\n",
       "      <td>Hyderabad, India</td>\n",
       "      <td>2013-10-19</td>\n",
       "      <td>Signature</td>\n",
       "      <td>Bills</td>\n",
       "      <td>M</td>\n",
       "      <td>184410</td>\n",
       "      <td>2013</td>\n",
       "      <td>10</td>\n",
       "    </tr>\n",
       "  </tbody>\n",
       "</table>\n",
       "<p>26052 rows × 9 columns</p>\n",
       "</div>"
      ],
      "text/plain": [
       "       index                   City       Date  Card_Type Exp_Type Gender  \\\n",
       "0          0           Delhi, India 2014-10-29       Gold    Bills      F   \n",
       "1          1  Greater Mumbai, India 2014-08-22   Platinum    Bills      F   \n",
       "2          2       Bengaluru, India 2014-08-27     Silver    Bills      F   \n",
       "3          3  Greater Mumbai, India 2014-04-12  Signature    Bills      F   \n",
       "4          4       Bengaluru, India 2015-05-05       Gold    Bills      F   \n",
       "...      ...                    ...        ...        ...      ...    ...   \n",
       "26047  26047         Kolkata, India 2014-06-22     Silver   Travel      F   \n",
       "26048  26048            Pune, India 2014-08-03  Signature   Travel      M   \n",
       "26049  26049       Hyderabad, India 2015-01-16     Silver   Travel      M   \n",
       "26050  26050          Kanpur, India 2014-09-14     Silver   Travel      M   \n",
       "26051  26051       Hyderabad, India 2013-10-19  Signature    Bills      M   \n",
       "\n",
       "       Amount  Year  Month  \n",
       "0       82475  2014     10  \n",
       "1       32555  2014      8  \n",
       "2      101738  2014      8  \n",
       "3      123424  2014      4  \n",
       "4      171574  2015      5  \n",
       "...       ...   ...    ...  \n",
       "26047  128191  2014      6  \n",
       "26048  246316  2014      8  \n",
       "26049  265019  2015      1  \n",
       "26050   88174  2014      9  \n",
       "26051  184410  2013     10  \n",
       "\n",
       "[26052 rows x 9 columns]"
      ]
     },
     "execution_count": 8,
     "metadata": {},
     "output_type": "execute_result"
    }
   ],
   "source": [
    "df"
   ]
  },
  {
   "cell_type": "code",
   "execution_count": 9,
   "id": "9a7c6056-1713-4646-9e86-fe8cd0c84a78",
   "metadata": {},
   "outputs": [
    {
     "data": {
      "text/plain": [
       "index                 int64\n",
       "City                 object\n",
       "Date         datetime64[ns]\n",
       "Card_Type            object\n",
       "Exp_Type             object\n",
       "Gender               object\n",
       "Amount                int64\n",
       "Year                  int32\n",
       "Month                 int32\n",
       "dtype: object"
      ]
     },
     "execution_count": 9,
     "metadata": {},
     "output_type": "execute_result"
    }
   ],
   "source": [
    "df.dtypes"
   ]
  },
  {
   "cell_type": "code",
   "execution_count": 10,
   "id": "507912f4-e2c7-4c9c-8dfd-e9761aa0727c",
   "metadata": {},
   "outputs": [
    {
     "data": {
      "text/plain": [
       "index        0\n",
       "City         0\n",
       "Date         0\n",
       "Card_Type    0\n",
       "Exp_Type     0\n",
       "Gender       0\n",
       "Amount       0\n",
       "Year         0\n",
       "Month        0\n",
       "dtype: int64"
      ]
     },
     "execution_count": 10,
     "metadata": {},
     "output_type": "execute_result"
    }
   ],
   "source": [
    "df.isnull().sum()"
   ]
  },
  {
   "cell_type": "code",
   "execution_count": 11,
   "id": "ae96bb97-0618-46ba-8b6e-3fe66b67d6cf",
   "metadata": {},
   "outputs": [
    {
     "data": {
      "text/plain": [
       "City\n",
       "Achalpur, India     178515.666667\n",
       "Adilabad, India     176946.400000\n",
       "Adityapur, India    160665.500000\n",
       "Adoni, India        175039.444444\n",
       "Adoor, India         92532.142857\n",
       "                        ...      \n",
       "Zaidpur, India      144763.600000\n",
       "Zamania, India      144272.333333\n",
       "Zira, India         182283.000000\n",
       "Zirakpur, India     183221.000000\n",
       "Zunheboto, India    155476.333333\n",
       "Name: Amount, Length: 986, dtype: float64"
      ]
     },
     "execution_count": 11,
     "metadata": {},
     "output_type": "execute_result"
    }
   ],
   "source": [
    " df.groupby('City')['Amount'].mean()"
   ]
  },
  {
   "cell_type": "code",
   "execution_count": 12,
   "id": "4d219d1a-df34-4e4c-ad68-ef26962a0add",
   "metadata": {},
   "outputs": [
    {
     "data": {
      "text/plain": [
       "Exp_Type  City           \n",
       "Bills     Achalpur, India    208215.000000\n",
       "          Adilabad, India    217009.750000\n",
       "          Adoni, India       211424.333333\n",
       "          Adoor, India         6536.000000\n",
       "          Afzalpur, India     98439.000000\n",
       "                                 ...      \n",
       "Travel    Kanpur, India      147222.509804\n",
       "          Kolkata, India     139822.471264\n",
       "          Lucknow, India     143838.382716\n",
       "          Pune, India        143052.674419\n",
       "          Surat, India       150423.810127\n",
       "Name: Amount, Length: 3500, dtype: float64"
      ]
     },
     "execution_count": 12,
     "metadata": {},
     "output_type": "execute_result"
    }
   ],
   "source": [
    "df.groupby(['Exp_Type', 'City'])['Amount'].mean()"
   ]
  },
  {
   "cell_type": "code",
   "execution_count": 13,
   "id": "626c30e4-365b-4014-b071-a19254b3ad4f",
   "metadata": {},
   "outputs": [],
   "source": [
    "df['City']=df['City'].astype(str)"
   ]
  },
  {
   "cell_type": "code",
   "execution_count": 14,
   "id": "68736325-2805-477b-974c-a48c2cb33519",
   "metadata": {},
   "outputs": [],
   "source": [
    "a=df.groupby('City')['Amount'].mean()"
   ]
  },
  {
   "cell_type": "code",
   "execution_count": 15,
   "id": "f92cabf3-49fc-4e6a-ac19-6fee51e7dd9b",
   "metadata": {},
   "outputs": [
    {
     "data": {
      "text/plain": [
       "City\n",
       "Achalpur, India     178515.666667\n",
       "Adilabad, India     176946.400000\n",
       "Adityapur, India    160665.500000\n",
       "Adoni, India        175039.444444\n",
       "Adoor, India         92532.142857\n",
       "                        ...      \n",
       "Zaidpur, India      144763.600000\n",
       "Zamania, India      144272.333333\n",
       "Zira, India         182283.000000\n",
       "Zirakpur, India     183221.000000\n",
       "Zunheboto, India    155476.333333\n",
       "Name: Amount, Length: 986, dtype: float64"
      ]
     },
     "execution_count": 15,
     "metadata": {},
     "output_type": "execute_result"
    }
   ],
   "source": [
    "a"
   ]
  },
  {
   "cell_type": "code",
   "execution_count": 16,
   "id": "f2a0f1fc-c486-4d3f-84ff-d24c1815b518",
   "metadata": {},
   "outputs": [],
   "source": [
    "a=df.groupby('City')['Amount'].sum().sort_values(ascending=False)"
   ]
  },
  {
   "cell_type": "code",
   "execution_count": 17,
   "id": "94fea608-1acb-48be-ba16-be269a1c0cff",
   "metadata": {},
   "outputs": [
    {
     "data": {
      "text/plain": [
       "City\n",
       "Greater Mumbai, India    576751476\n",
       "Bengaluru, India         572326739\n",
       "Ahmedabad, India         567794310\n",
       "Delhi, India             556929212\n",
       "Kolkata, India           115466943\n",
       "                           ...    \n",
       "Changanassery, India         30074\n",
       "Tirur, India                 26094\n",
       "Bahraich, India              24253\n",
       "Mahbubnagar, India           15458\n",
       "Fazilka, India               14949\n",
       "Name: Amount, Length: 986, dtype: int64"
      ]
     },
     "execution_count": 17,
     "metadata": {},
     "output_type": "execute_result"
    }
   ],
   "source": [
    "a"
   ]
  },
  {
   "cell_type": "code",
   "execution_count": 18,
   "id": "db5010e2-f25e-42ba-a26c-556182b511fb",
   "metadata": {},
   "outputs": [
    {
     "data": {
      "text/plain": [
       "Date\n",
       "2013-10-04    9738755\n",
       "2013-10-05    8062632\n",
       "2013-10-06    6990055\n",
       "2013-10-07    7822992\n",
       "2013-10-08    5832533\n",
       "               ...   \n",
       "2015-05-22    6613863\n",
       "2015-05-23    6393798\n",
       "2015-05-24    7171912\n",
       "2015-05-25    5176669\n",
       "2015-05-26    7591837\n",
       "Name: Amount, Length: 600, dtype: int64"
      ]
     },
     "execution_count": 18,
     "metadata": {},
     "output_type": "execute_result"
    }
   ],
   "source": [
    "df.groupby('Date')['Amount'].sum()"
   ]
  },
  {
   "cell_type": "code",
   "execution_count": 19,
   "id": "c2a6476a-92fe-4a3b-a744-176600ec11e2",
   "metadata": {},
   "outputs": [
    {
     "data": {
      "text/plain": [
       "Month\n",
       "1     431209556\n",
       "2     383512624\n",
       "3     410054446\n",
       "4     416394734\n",
       "5     375455609\n",
       "6     191321039\n",
       "7     197981416\n",
       "8     218453126\n",
       "9     209561433\n",
       "10    419846007\n",
       "11    404107968\n",
       "12    416935415\n",
       "Name: Amount, dtype: int64"
      ]
     },
     "execution_count": 19,
     "metadata": {},
     "output_type": "execute_result"
    }
   ],
   "source": [
    "df.groupby('Month')['Amount'].sum()"
   ]
  },
  {
   "cell_type": "code",
   "execution_count": 20,
   "id": "7c7a1e07-3b4e-4713-851c-82961a922a22",
   "metadata": {},
   "outputs": [
    {
     "data": {
      "text/plain": [
       "Month  City              \n",
       "1      Adoni, India          102851.500000\n",
       "       Adoor, India            8944.000000\n",
       "       Agra, India           129754.000000\n",
       "       Ahmedabad, India      164109.837398\n",
       "       Aizawl, India         241529.000000\n",
       "                                 ...      \n",
       "12     Yerraguntla, India    259335.000000\n",
       "       Zaidpur, India        154299.000000\n",
       "       Zira, India           283129.000000\n",
       "       Zirakpur, India       175566.000000\n",
       "       Zunheboto, India       78591.000000\n",
       "Name: Amount, Length: 4700, dtype: float64"
      ]
     },
     "execution_count": 20,
     "metadata": {},
     "output_type": "execute_result"
    }
   ],
   "source": [
    "df.groupby(['Month', 'City'])['Amount'].mean()"
   ]
  },
  {
   "cell_type": "code",
   "execution_count": 21,
   "id": "c4aff8a8-f8de-4f1f-a1e2-cc2666d70dcd",
   "metadata": {},
   "outputs": [],
   "source": [
    "\n",
    "df['Date'] = df['Date']\n",
    "df['Month'] = df['Date']\n"
   ]
  },
  {
   "cell_type": "code",
   "execution_count": 22,
   "id": "9cac623f-dbbd-4b84-835d-2b7a3b67db6c",
   "metadata": {},
   "outputs": [
    {
     "data": {
      "text/plain": [
       "Date\n",
       "2013-10-04    9738755\n",
       "2013-10-05    8062632\n",
       "2013-10-06    6990055\n",
       "2013-10-07    7822992\n",
       "2013-10-08    5832533\n",
       "               ...   \n",
       "2015-05-22    6613863\n",
       "2015-05-23    6393798\n",
       "2015-05-24    7171912\n",
       "2015-05-25    5176669\n",
       "2015-05-26    7591837\n",
       "Name: Amount, Length: 600, dtype: int64"
      ]
     },
     "execution_count": 22,
     "metadata": {},
     "output_type": "execute_result"
    }
   ],
   "source": [
    "df.groupby('Date')['Amount'].sum()"
   ]
  },
  {
   "cell_type": "code",
   "execution_count": 23,
   "id": "cfc05de7-09f3-4003-80f7-22b1f44845fe",
   "metadata": {},
   "outputs": [
    {
     "data": {
      "text/plain": [
       "Month\n",
       "2013-10-04    9738755\n",
       "2013-10-05    8062632\n",
       "2013-10-06    6990055\n",
       "2013-10-07    7822992\n",
       "2013-10-08    5832533\n",
       "               ...   \n",
       "2015-05-22    6613863\n",
       "2015-05-23    6393798\n",
       "2015-05-24    7171912\n",
       "2015-05-25    5176669\n",
       "2015-05-26    7591837\n",
       "Name: Amount, Length: 600, dtype: int64"
      ]
     },
     "execution_count": 23,
     "metadata": {},
     "output_type": "execute_result"
    }
   ],
   "source": [
    "df.groupby('Month')['Amount'].sum()"
   ]
  },
  {
   "cell_type": "code",
   "execution_count": 24,
   "id": "aec77393-3276-4f55-8491-99f90b745942",
   "metadata": {},
   "outputs": [
    {
     "data": {
      "text/plain": [
       "Month\n",
       "2013-10-04    173906.339286\n",
       "2013-10-05    167971.500000\n",
       "2013-10-06    158864.886364\n",
       "2013-10-07    156459.840000\n",
       "2013-10-08    145813.325000\n",
       "                  ...      \n",
       "2015-05-22    174049.026316\n",
       "2015-05-23    138995.608696\n",
       "2015-05-24    149414.833333\n",
       "2015-05-25    132735.102564\n",
       "2015-05-26    165039.934783\n",
       "Name: Amount, Length: 600, dtype: float64"
      ]
     },
     "execution_count": 24,
     "metadata": {},
     "output_type": "execute_result"
    }
   ],
   "source": [
    "df.groupby('Month')['Amount'].mean()"
   ]
  },
  {
   "cell_type": "code",
   "execution_count": 25,
   "id": "625a50a1-85eb-404b-930c-aef99a7f69ee",
   "metadata": {},
   "outputs": [
    {
     "data": {
      "text/plain": [
       "Date\n",
       "2013-10-04    9738755\n",
       "2013-10-05    8062632\n",
       "2013-10-06    6990055\n",
       "2013-10-07    7822992\n",
       "2013-10-08    5832533\n",
       "               ...   \n",
       "2015-05-22    6613863\n",
       "2015-05-23    6393798\n",
       "2015-05-24    7171912\n",
       "2015-05-25    5176669\n",
       "2015-05-26    7591837\n",
       "Name: Amount, Length: 600, dtype: int64"
      ]
     },
     "execution_count": 25,
     "metadata": {},
     "output_type": "execute_result"
    }
   ],
   "source": [
    "df.groupby(df['Date'].dt.date)['Amount'].sum()\n"
   ]
  },
  {
   "cell_type": "code",
   "execution_count": 26,
   "id": "163cc032-b8d1-4199-bdfa-e9d722c49d18",
   "metadata": {},
   "outputs": [
    {
     "data": {
      "text/plain": [
       "Date\n",
       "2013-10    207360092\n",
       "2013-11    192015963\n",
       "2013-12    214267829\n",
       "2014-01    207650982\n",
       "2014-02    189220180\n",
       "2014-03    203233307\n",
       "2014-04    208284732\n",
       "2014-05    201762312\n",
       "2014-06    191321039\n",
       "2014-07    197981416\n",
       "2014-08    218453126\n",
       "2014-09    209561433\n",
       "2014-10    212485915\n",
       "2014-11    212092005\n",
       "2014-12    202667586\n",
       "2015-01    223558574\n",
       "2015-02    194292444\n",
       "2015-03    206821139\n",
       "2015-04    208110002\n",
       "2015-05    173693297\n",
       "Freq: M, Name: Amount, dtype: int64"
      ]
     },
     "execution_count": 26,
     "metadata": {},
     "output_type": "execute_result"
    }
   ],
   "source": [
    " df.groupby(df['Date'].dt.to_period(\"M\"))['Amount'].sum()"
   ]
  },
  {
   "cell_type": "code",
   "execution_count": 27,
   "id": "a033cfc2-6888-430e-aec3-ffa121724971",
   "metadata": {},
   "outputs": [
    {
     "data": {
      "text/plain": [
       "Card_Type\n",
       "Silver       6840\n",
       "Signature    6447\n",
       "Platinum     6398\n",
       "Gold         6367\n",
       "Name: count, dtype: int64"
      ]
     },
     "execution_count": 27,
     "metadata": {},
     "output_type": "execute_result"
    }
   ],
   "source": [
    "df['Card_Type'].value_counts()"
   ]
  },
  {
   "cell_type": "code",
   "execution_count": 28,
   "id": "c103398c-d8d4-46de-acd5-2dd4fe42d563",
   "metadata": {},
   "outputs": [
    {
     "data": {
      "text/plain": [
       "Card_Type\n",
       "Silver       1069613713\n",
       "Signature    1013041105\n",
       "Platinum     1007639019\n",
       "Gold          984539536\n",
       "Name: Amount, dtype: int64"
      ]
     },
     "execution_count": 28,
     "metadata": {},
     "output_type": "execute_result"
    }
   ],
   "source": [
    " df.groupby('Card_Type')['Amount'].sum().sort_values(ascending=False)"
   ]
  },
  {
   "cell_type": "code",
   "execution_count": 29,
   "id": "b65869a1-c7da-4c9e-8ba8-f973123f155c",
   "metadata": {},
   "outputs": [
    {
     "data": {
      "text/plain": [
       "15464   2013-10-04\n",
       "9427    2013-10-04\n",
       "9418    2013-10-04\n",
       "9244    2013-10-04\n",
       "1521    2013-10-04\n",
       "1612    2013-10-04\n",
       "15118   2013-10-04\n",
       "18278   2013-10-04\n",
       "4104    2013-10-04\n",
       "50      2013-10-04\n",
       "Name: Date, dtype: datetime64[ns]"
      ]
     },
     "execution_count": 29,
     "metadata": {},
     "output_type": "execute_result"
    }
   ],
   "source": [
    "df['Date'].sort_values().head(10)"
   ]
  },
  {
   "cell_type": "code",
   "execution_count": 30,
   "id": "55d0f6d7-0295-4f73-bf97-0e15f07215fd",
   "metadata": {},
   "outputs": [
    {
     "data": {
      "text/plain": [
       "13026    Silver\n",
       "6278     Silver\n",
       "17369    Silver\n",
       "17372    Silver\n",
       "6320     Silver\n",
       "          ...  \n",
       "20566      Gold\n",
       "20565      Gold\n",
       "4130       Gold\n",
       "20562      Gold\n",
       "0          Gold\n",
       "Name: Card_Type, Length: 26052, dtype: object"
      ]
     },
     "execution_count": 30,
     "metadata": {},
     "output_type": "execute_result"
    }
   ],
   "source": [
    "df['Card_Type'].sort_values(ascending=False)"
   ]
  },
  {
   "cell_type": "code",
   "execution_count": 31,
   "id": "9b7d25e8-ccfe-45a0-858a-bfd80d7458ee",
   "metadata": {},
   "outputs": [
    {
     "data": {
      "text/plain": [
       "Exp_Type\n",
       "Food             5463\n",
       "Fuel             5257\n",
       "Bills            5078\n",
       "Entertainment    4762\n",
       "Grocery          4754\n",
       "Travel            738\n",
       "Name: count, dtype: int64"
      ]
     },
     "execution_count": 31,
     "metadata": {},
     "output_type": "execute_result"
    }
   ],
   "source": [
    "df['Exp_Type'].value_counts()"
   ]
  },
  {
   "cell_type": "code",
   "execution_count": 32,
   "id": "f15a9f8c-cffe-407b-8a3c-42d2105c0d49",
   "metadata": {},
   "outputs": [
    {
     "data": {
      "text/plain": [
       "25486    Travel\n",
       "25399    Travel\n",
       "25403    Travel\n",
       "25402    Travel\n",
       "25401    Travel\n",
       "          ...  \n",
       "14322     Bills\n",
       "14321     Bills\n",
       "14319     Bills\n",
       "14314     Bills\n",
       "26051     Bills\n",
       "Name: Exp_Type, Length: 26052, dtype: object"
      ]
     },
     "execution_count": 32,
     "metadata": {},
     "output_type": "execute_result"
    }
   ],
   "source": [
    "df['Exp_Type'].sort_values(ascending=False)"
   ]
  },
  {
   "cell_type": "code",
   "execution_count": 33,
   "id": "3c2ed8d0-c8af-4477-a6e5-8b4e5c38536f",
   "metadata": {},
   "outputs": [
    {
     "data": {
      "text/plain": [
       "array(['Gold', 'Platinum', 'Silver', 'Signature'], dtype=object)"
      ]
     },
     "execution_count": 33,
     "metadata": {},
     "output_type": "execute_result"
    }
   ],
   "source": [
    "df.Card_Type.unique()"
   ]
  },
  {
   "cell_type": "code",
   "execution_count": 34,
   "id": "b8d42c50-8a48-43d3-87ac-bc9d60336249",
   "metadata": {},
   "outputs": [
    {
     "data": {
      "text/html": [
       "<div>\n",
       "<style scoped>\n",
       "    .dataframe tbody tr th:only-of-type {\n",
       "        vertical-align: middle;\n",
       "    }\n",
       "\n",
       "    .dataframe tbody tr th {\n",
       "        vertical-align: top;\n",
       "    }\n",
       "\n",
       "    .dataframe thead th {\n",
       "        text-align: right;\n",
       "    }\n",
       "</style>\n",
       "<table border=\"1\" class=\"dataframe\">\n",
       "  <thead>\n",
       "    <tr style=\"text-align: right;\">\n",
       "      <th></th>\n",
       "      <th>index</th>\n",
       "      <th>Date</th>\n",
       "      <th>Amount</th>\n",
       "      <th>Year</th>\n",
       "      <th>Month</th>\n",
       "    </tr>\n",
       "  </thead>\n",
       "  <tbody>\n",
       "    <tr>\n",
       "      <th>count</th>\n",
       "      <td>26052.000000</td>\n",
       "      <td>26052</td>\n",
       "      <td>26052.000000</td>\n",
       "      <td>26052.000000</td>\n",
       "      <td>26052</td>\n",
       "    </tr>\n",
       "    <tr>\n",
       "      <th>mean</th>\n",
       "      <td>13025.500000</td>\n",
       "      <td>2014-07-30 11:34:44.385075968</td>\n",
       "      <td>156411.537425</td>\n",
       "      <td>2014.092392</td>\n",
       "      <td>2014-07-30 11:34:44.385075968</td>\n",
       "    </tr>\n",
       "    <tr>\n",
       "      <th>min</th>\n",
       "      <td>0.000000</td>\n",
       "      <td>2013-10-04 00:00:00</td>\n",
       "      <td>1005.000000</td>\n",
       "      <td>2013.000000</td>\n",
       "      <td>2013-10-04 00:00:00</td>\n",
       "    </tr>\n",
       "    <tr>\n",
       "      <th>25%</th>\n",
       "      <td>6512.750000</td>\n",
       "      <td>2014-03-02 00:00:00</td>\n",
       "      <td>77120.250000</td>\n",
       "      <td>2014.000000</td>\n",
       "      <td>2014-03-02 00:00:00</td>\n",
       "    </tr>\n",
       "    <tr>\n",
       "      <th>50%</th>\n",
       "      <td>13025.500000</td>\n",
       "      <td>2014-08-02 00:00:00</td>\n",
       "      <td>153106.500000</td>\n",
       "      <td>2014.000000</td>\n",
       "      <td>2014-08-02 00:00:00</td>\n",
       "    </tr>\n",
       "    <tr>\n",
       "      <th>75%</th>\n",
       "      <td>19538.250000</td>\n",
       "      <td>2014-12-28 00:00:00</td>\n",
       "      <td>228050.000000</td>\n",
       "      <td>2014.000000</td>\n",
       "      <td>2014-12-28 00:00:00</td>\n",
       "    </tr>\n",
       "    <tr>\n",
       "      <th>max</th>\n",
       "      <td>26051.000000</td>\n",
       "      <td>2015-05-26 00:00:00</td>\n",
       "      <td>998077.000000</td>\n",
       "      <td>2015.000000</td>\n",
       "      <td>2015-05-26 00:00:00</td>\n",
       "    </tr>\n",
       "    <tr>\n",
       "      <th>std</th>\n",
       "      <td>7520.708943</td>\n",
       "      <td>NaN</td>\n",
       "      <td>103063.254287</td>\n",
       "      <td>0.620761</td>\n",
       "      <td>NaN</td>\n",
       "    </tr>\n",
       "  </tbody>\n",
       "</table>\n",
       "</div>"
      ],
      "text/plain": [
       "              index                           Date         Amount  \\\n",
       "count  26052.000000                          26052   26052.000000   \n",
       "mean   13025.500000  2014-07-30 11:34:44.385075968  156411.537425   \n",
       "min        0.000000            2013-10-04 00:00:00    1005.000000   \n",
       "25%     6512.750000            2014-03-02 00:00:00   77120.250000   \n",
       "50%    13025.500000            2014-08-02 00:00:00  153106.500000   \n",
       "75%    19538.250000            2014-12-28 00:00:00  228050.000000   \n",
       "max    26051.000000            2015-05-26 00:00:00  998077.000000   \n",
       "std     7520.708943                            NaN  103063.254287   \n",
       "\n",
       "               Year                          Month  \n",
       "count  26052.000000                          26052  \n",
       "mean    2014.092392  2014-07-30 11:34:44.385075968  \n",
       "min     2013.000000            2013-10-04 00:00:00  \n",
       "25%     2014.000000            2014-03-02 00:00:00  \n",
       "50%     2014.000000            2014-08-02 00:00:00  \n",
       "75%     2014.000000            2014-12-28 00:00:00  \n",
       "max     2015.000000            2015-05-26 00:00:00  \n",
       "std        0.620761                            NaN  "
      ]
     },
     "execution_count": 34,
     "metadata": {},
     "output_type": "execute_result"
    }
   ],
   "source": [
    "df.describe()"
   ]
  },
  {
   "cell_type": "code",
   "execution_count": 35,
   "id": "0e8b01f1-3110-467a-9fe6-304c848b997c",
   "metadata": {},
   "outputs": [
    {
     "data": {
      "text/html": [
       "<div>\n",
       "<style scoped>\n",
       "    .dataframe tbody tr th:only-of-type {\n",
       "        vertical-align: middle;\n",
       "    }\n",
       "\n",
       "    .dataframe tbody tr th {\n",
       "        vertical-align: top;\n",
       "    }\n",
       "\n",
       "    .dataframe thead th {\n",
       "        text-align: right;\n",
       "    }\n",
       "</style>\n",
       "<table border=\"1\" class=\"dataframe\">\n",
       "  <thead>\n",
       "    <tr style=\"text-align: right;\">\n",
       "      <th></th>\n",
       "      <th>count</th>\n",
       "      <th>unique</th>\n",
       "      <th>top</th>\n",
       "      <th>freq</th>\n",
       "    </tr>\n",
       "    <tr>\n",
       "      <th>Card_Type</th>\n",
       "      <th></th>\n",
       "      <th></th>\n",
       "      <th></th>\n",
       "      <th></th>\n",
       "    </tr>\n",
       "  </thead>\n",
       "  <tbody>\n",
       "    <tr>\n",
       "      <th>Gold</th>\n",
       "      <td>6367</td>\n",
       "      <td>6</td>\n",
       "      <td>Food</td>\n",
       "      <td>1322</td>\n",
       "    </tr>\n",
       "    <tr>\n",
       "      <th>Platinum</th>\n",
       "      <td>6398</td>\n",
       "      <td>6</td>\n",
       "      <td>Food</td>\n",
       "      <td>1371</td>\n",
       "    </tr>\n",
       "    <tr>\n",
       "      <th>Signature</th>\n",
       "      <td>6447</td>\n",
       "      <td>6</td>\n",
       "      <td>Food</td>\n",
       "      <td>1329</td>\n",
       "    </tr>\n",
       "    <tr>\n",
       "      <th>Silver</th>\n",
       "      <td>6840</td>\n",
       "      <td>6</td>\n",
       "      <td>Food</td>\n",
       "      <td>1441</td>\n",
       "    </tr>\n",
       "  </tbody>\n",
       "</table>\n",
       "</div>"
      ],
      "text/plain": [
       "          count unique   top  freq\n",
       "Card_Type                         \n",
       "Gold       6367      6  Food  1322\n",
       "Platinum   6398      6  Food  1371\n",
       "Signature  6447      6  Food  1329\n",
       "Silver     6840      6  Food  1441"
      ]
     },
     "execution_count": 35,
     "metadata": {},
     "output_type": "execute_result"
    }
   ],
   "source": [
    "df.groupby('Card_Type')['Exp_Type'].describe()"
   ]
  },
  {
   "cell_type": "code",
   "execution_count": 36,
   "id": "b81befac-662a-420c-a61e-d64fdd0df52e",
   "metadata": {},
   "outputs": [
    {
     "data": {
      "image/png": "[encoded data removed]",
      "text/plain": [
       "<Figure size 640x480 with 1 Axes>"
      ]
     },
     "metadata": {},
     "output_type": "display_data"
    }
   ],
   "source": [
    "sb.barplot(x=df.Exp_Type,y=df.Amount)\n",
    "plt.xticks(rotation=90)\n",
    "plt.show()"
   ]
  },
  {
   "cell_type": "code",
   "execution_count": 37,
   "id": "f3c8312d-dcbb-4b0d-bf7e-5bee3f09a8b3",
   "metadata": {},
   "outputs": [
    {
     "data": {
      "text/plain": [
       "Exp_Type       Card_Type\n",
       "Bills          Gold         179565.245223\n",
       "               Platinum     180657.117168\n",
       "               Signature    179599.262907\n",
       "               Silver       174959.112444\n",
       "Entertainment  Gold         151765.934383\n",
       "               Platinum     156367.934288\n",
       "               Signature    152691.436752\n",
       "               Silver       149533.561014\n",
       "Food           Gold         146563.127080\n",
       "               Platinum     153405.404814\n",
       "               Signature    155190.228743\n",
       "               Silver       148786.211659\n",
       "Fuel           Gold         147790.054753\n",
       "               Platinum     149054.808756\n",
       "               Signature    146032.260498\n",
       "               Silver       157256.315362\n",
       "Grocery        Gold         148567.339589\n",
       "               Platinum     151646.743363\n",
       "               Signature    152559.080882\n",
       "               Silver       151341.088993\n",
       "Travel         Gold         147122.150943\n",
       "               Platinum     135495.491620\n",
       "               Signature    153625.899441\n",
       "               Silver       156624.916667\n",
       "Name: Amount, dtype: float64"
      ]
     },
     "execution_count": 37,
     "metadata": {},
     "output_type": "execute_result"
    }
   ],
   "source": [
    "df.groupby(['Exp_Type','Card_Type'])['Amount'].mean()"
   ]
  },
  {
   "cell_type": "code",
   "execution_count": 38,
   "id": "b9acf8fd-c181-43ea-a2ce-81843877066c",
   "metadata": {},
   "outputs": [
    {
     "data": {
      "text/html": [
       "<div>\n",
       "<style scoped>\n",
       "    .dataframe tbody tr th:only-of-type {\n",
       "        vertical-align: middle;\n",
       "    }\n",
       "\n",
       "    .dataframe tbody tr th {\n",
       "        vertical-align: top;\n",
       "    }\n",
       "\n",
       "    .dataframe thead th {\n",
       "        text-align: right;\n",
       "    }\n",
       "</style>\n",
       "<table border=\"1\" class=\"dataframe\">\n",
       "  <thead>\n",
       "    <tr style=\"text-align: right;\">\n",
       "      <th>Exp_Type</th>\n",
       "      <th>Bills</th>\n",
       "      <th>Entertainment</th>\n",
       "      <th>Food</th>\n",
       "      <th>Fuel</th>\n",
       "      <th>Grocery</th>\n",
       "      <th>Travel</th>\n",
       "    </tr>\n",
       "    <tr>\n",
       "      <th>Card_Type</th>\n",
       "      <th></th>\n",
       "      <th></th>\n",
       "      <th></th>\n",
       "      <th></th>\n",
       "      <th></th>\n",
       "      <th></th>\n",
       "    </tr>\n",
       "  </thead>\n",
       "  <tbody>\n",
       "    <tr>\n",
       "      <th>Gold</th>\n",
       "      <td>1256</td>\n",
       "      <td>1143</td>\n",
       "      <td>1322</td>\n",
       "      <td>1315</td>\n",
       "      <td>1119</td>\n",
       "      <td>212</td>\n",
       "    </tr>\n",
       "    <tr>\n",
       "      <th>Platinum</th>\n",
       "      <td>1229</td>\n",
       "      <td>1187</td>\n",
       "      <td>1371</td>\n",
       "      <td>1302</td>\n",
       "      <td>1130</td>\n",
       "      <td>179</td>\n",
       "    </tr>\n",
       "    <tr>\n",
       "      <th>Signature</th>\n",
       "      <td>1259</td>\n",
       "      <td>1170</td>\n",
       "      <td>1329</td>\n",
       "      <td>1286</td>\n",
       "      <td>1224</td>\n",
       "      <td>179</td>\n",
       "    </tr>\n",
       "    <tr>\n",
       "      <th>Silver</th>\n",
       "      <td>1334</td>\n",
       "      <td>1262</td>\n",
       "      <td>1441</td>\n",
       "      <td>1354</td>\n",
       "      <td>1281</td>\n",
       "      <td>168</td>\n",
       "    </tr>\n",
       "  </tbody>\n",
       "</table>\n",
       "</div>"
      ],
      "text/plain": [
       "Exp_Type   Bills  Entertainment  Food  Fuel  Grocery  Travel\n",
       "Card_Type                                                   \n",
       "Gold        1256           1143  1322  1315     1119     212\n",
       "Platinum    1229           1187  1371  1302     1130     179\n",
       "Signature   1259           1170  1329  1286     1224     179\n",
       "Silver      1334           1262  1441  1354     1281     168"
      ]
     },
     "execution_count": 38,
     "metadata": {},
     "output_type": "execute_result"
    }
   ],
   "source": [
    "pd.crosstab(df['Card_Type'],df['Exp_Type'])"
   ]
  },
  {
   "cell_type": "code",
   "execution_count": 39,
   "id": "07c8e993-8a25-40a7-9336-2319b5f94104",
   "metadata": {},
   "outputs": [
    {
     "data": {
      "text/html": [
       "<div>\n",
       "<style scoped>\n",
       "    .dataframe tbody tr th:only-of-type {\n",
       "        vertical-align: middle;\n",
       "    }\n",
       "\n",
       "    .dataframe tbody tr th {\n",
       "        vertical-align: top;\n",
       "    }\n",
       "\n",
       "    .dataframe thead th {\n",
       "        text-align: right;\n",
       "    }\n",
       "</style>\n",
       "<table border=\"1\" class=\"dataframe\">\n",
       "  <thead>\n",
       "    <tr style=\"text-align: right;\">\n",
       "      <th></th>\n",
       "      <th>index</th>\n",
       "      <th>Amount</th>\n",
       "      <th>Year</th>\n",
       "    </tr>\n",
       "  </thead>\n",
       "  <tbody>\n",
       "    <tr>\n",
       "      <th>index</th>\n",
       "      <td>1.000000</td>\n",
       "      <td>-0.106806</td>\n",
       "      <td>-0.006092</td>\n",
       "    </tr>\n",
       "    <tr>\n",
       "      <th>Amount</th>\n",
       "      <td>-0.106806</td>\n",
       "      <td>1.000000</td>\n",
       "      <td>0.009809</td>\n",
       "    </tr>\n",
       "    <tr>\n",
       "      <th>Year</th>\n",
       "      <td>-0.006092</td>\n",
       "      <td>0.009809</td>\n",
       "      <td>1.000000</td>\n",
       "    </tr>\n",
       "  </tbody>\n",
       "</table>\n",
       "</div>"
      ],
      "text/plain": [
       "           index    Amount      Year\n",
       "index   1.000000 -0.106806 -0.006092\n",
       "Amount -0.106806  1.000000  0.009809\n",
       "Year   -0.006092  0.009809  1.000000"
      ]
     },
     "execution_count": 39,
     "metadata": {},
     "output_type": "execute_result"
    }
   ],
   "source": [
    "df.corr(numeric_only=True)"
   ]
  },
  {
   "cell_type": "code",
   "execution_count": 40,
   "id": "5ab122a3-2741-48d7-b98c-0ce27502ebbf",
   "metadata": {},
   "outputs": [
    {
     "data": {
      "text/plain": [
       "Card_Type\n",
       "Silver       6840\n",
       "Signature    6447\n",
       "Platinum     6398\n",
       "Gold         6367\n",
       "Name: count, dtype: int64"
      ]
     },
     "execution_count": 40,
     "metadata": {},
     "output_type": "execute_result"
    }
   ],
   "source": [
    "df['Card_Type'].value_counts()"
   ]
  },
  {
   "cell_type": "code",
   "execution_count": 41,
   "id": "d129662d-aa97-4c6a-a7c8-d4383638cdc3",
   "metadata": {},
   "outputs": [
    {
     "data": {
      "text/plain": [
       "City\n",
       "Bengaluru, India         3552\n",
       "Greater Mumbai, India    3493\n",
       "Ahmedabad, India         3491\n",
       "Delhi, India             3482\n",
       "Hyderabad, India          784\n",
       "Chennai, India            774\n",
       "Kolkata, India            773\n",
       "Kanpur, India             764\n",
       "Lucknow, India            759\n",
       "Jaipur, India             752\n",
       "Name: count, dtype: int64"
      ]
     },
     "execution_count": 41,
     "metadata": {},
     "output_type": "execute_result"
    }
   ],
   "source": [
    "df['City'].value_counts().nlargest(10)"
   ]
  },
  {
   "cell_type": "code",
   "execution_count": 42,
   "id": "a0a8c24e-9346-4f74-835c-160baa16d722",
   "metadata": {},
   "outputs": [
    {
     "data": {
      "image/png": "[encoded data removed]",
      "text/plain": [
       "<Figure size 640x480 with 1 Axes>"
      ]
     },
     "metadata": {},
     "output_type": "display_data"
    }
   ],
   "source": [
    "sb.countplot(x=df.Card_Type)\n",
    "plt.show()             "
   ]
  },
  {
   "cell_type": "code",
   "execution_count": 43,
   "id": "7565a39a-a273-4850-b5b1-47493e738a9d",
   "metadata": {},
   "outputs": [],
   "source": [
    "df['City']=df['City'].astype(str)"
   ]
  },
  {
   "cell_type": "code",
   "execution_count": 44,
   "id": "4187de77-9806-429c-a3f9-10294a053840",
   "metadata": {},
   "outputs": [
    {
     "data": {
      "text/plain": [
       "Date\n",
       "2013-10-04    9738755\n",
       "2013-10-05    8062632\n",
       "2013-10-06    6990055\n",
       "2013-10-07    7822992\n",
       "2013-10-08    5832533\n",
       "               ...   \n",
       "2015-05-22    6613863\n",
       "2015-05-23    6393798\n",
       "2015-05-24    7171912\n",
       "2015-05-25    5176669\n",
       "2015-05-26    7591837\n",
       "Name: Amount, Length: 600, dtype: int64"
      ]
     },
     "execution_count": 44,
     "metadata": {},
     "output_type": "execute_result"
    }
   ],
   "source": [
    "df.groupby('Date')['Amount'].sum()"
   ]
  },
  {
   "cell_type": "code",
   "execution_count": 45,
   "id": "0417fac4-dcca-40df-aaec-1d822d9ec564",
   "metadata": {},
   "outputs": [],
   "source": [
    "a=df['Amount'].mean()+3*df['Amount'].std()"
   ]
  },
  {
   "cell_type": "code",
   "execution_count": 46,
   "id": "a3c569fa-59e2-4c26-a52b-b83c1fc7464e",
   "metadata": {},
   "outputs": [
    {
     "data": {
      "text/plain": [
       "465601.300285343"
      ]
     },
     "execution_count": 46,
     "metadata": {},
     "output_type": "execute_result"
    }
   ],
   "source": [
    "a"
   ]
  },
  {
   "cell_type": "code",
   "execution_count": 47,
   "id": "3d462d28-21bc-4687-bf45-22b986a7ffe4",
   "metadata": {},
   "outputs": [
    {
     "data": {
      "text/html": [
       "<div>\n",
       "<style scoped>\n",
       "    .dataframe tbody tr th:only-of-type {\n",
       "        vertical-align: middle;\n",
       "    }\n",
       "\n",
       "    .dataframe tbody tr th {\n",
       "        vertical-align: top;\n",
       "    }\n",
       "\n",
       "    .dataframe thead th {\n",
       "        text-align: right;\n",
       "    }\n",
       "</style>\n",
       "<table border=\"1\" class=\"dataframe\">\n",
       "  <thead>\n",
       "    <tr style=\"text-align: right;\">\n",
       "      <th></th>\n",
       "      <th>index</th>\n",
       "      <th>City</th>\n",
       "      <th>Date</th>\n",
       "      <th>Card_Type</th>\n",
       "      <th>Exp_Type</th>\n",
       "      <th>Gender</th>\n",
       "      <th>Amount</th>\n",
       "      <th>Year</th>\n",
       "      <th>Month</th>\n",
       "    </tr>\n",
       "  </thead>\n",
       "  <tbody>\n",
       "    <tr>\n",
       "      <th>15</th>\n",
       "      <td>15</td>\n",
       "      <td>Greater Mumbai, India</td>\n",
       "      <td>2014-11-28</td>\n",
       "      <td>Platinum</td>\n",
       "      <td>Bills</td>\n",
       "      <td>F</td>\n",
       "      <td>647116</td>\n",
       "      <td>2014</td>\n",
       "      <td>2014-11-28</td>\n",
       "    </tr>\n",
       "    <tr>\n",
       "      <th>17</th>\n",
       "      <td>17</td>\n",
       "      <td>Greater Mumbai, India</td>\n",
       "      <td>2015-03-30</td>\n",
       "      <td>Gold</td>\n",
       "      <td>Bills</td>\n",
       "      <td>F</td>\n",
       "      <td>986379</td>\n",
       "      <td>2015</td>\n",
       "      <td>2015-03-30</td>\n",
       "    </tr>\n",
       "    <tr>\n",
       "      <th>19</th>\n",
       "      <td>19</td>\n",
       "      <td>Greater Mumbai, India</td>\n",
       "      <td>2013-11-09</td>\n",
       "      <td>Platinum</td>\n",
       "      <td>Bills</td>\n",
       "      <td>F</td>\n",
       "      <td>735566</td>\n",
       "      <td>2013</td>\n",
       "      <td>2013-11-09</td>\n",
       "    </tr>\n",
       "    <tr>\n",
       "      <th>21</th>\n",
       "      <td>21</td>\n",
       "      <td>Delhi, India</td>\n",
       "      <td>2014-07-01</td>\n",
       "      <td>Signature</td>\n",
       "      <td>Bills</td>\n",
       "      <td>F</td>\n",
       "      <td>809623</td>\n",
       "      <td>2014</td>\n",
       "      <td>2014-07-01</td>\n",
       "    </tr>\n",
       "    <tr>\n",
       "      <th>22</th>\n",
       "      <td>22</td>\n",
       "      <td>Greater Mumbai, India</td>\n",
       "      <td>2015-03-27</td>\n",
       "      <td>Silver</td>\n",
       "      <td>Bills</td>\n",
       "      <td>F</td>\n",
       "      <td>467014</td>\n",
       "      <td>2015</td>\n",
       "      <td>2015-03-27</td>\n",
       "    </tr>\n",
       "    <tr>\n",
       "      <th>...</th>\n",
       "      <td>...</td>\n",
       "      <td>...</td>\n",
       "      <td>...</td>\n",
       "      <td>...</td>\n",
       "      <td>...</td>\n",
       "      <td>...</td>\n",
       "      <td>...</td>\n",
       "      <td>...</td>\n",
       "      <td>...</td>\n",
       "    </tr>\n",
       "    <tr>\n",
       "      <th>344</th>\n",
       "      <td>344</td>\n",
       "      <td>Ahmedabad, India</td>\n",
       "      <td>2013-12-07</td>\n",
       "      <td>Platinum</td>\n",
       "      <td>Bills</td>\n",
       "      <td>F</td>\n",
       "      <td>515263</td>\n",
       "      <td>2013</td>\n",
       "      <td>2013-12-07</td>\n",
       "    </tr>\n",
       "    <tr>\n",
       "      <th>346</th>\n",
       "      <td>346</td>\n",
       "      <td>Ahmedabad, India</td>\n",
       "      <td>2014-06-16</td>\n",
       "      <td>Silver</td>\n",
       "      <td>Bills</td>\n",
       "      <td>F</td>\n",
       "      <td>934683</td>\n",
       "      <td>2014</td>\n",
       "      <td>2014-06-16</td>\n",
       "    </tr>\n",
       "    <tr>\n",
       "      <th>348</th>\n",
       "      <td>348</td>\n",
       "      <td>Greater Mumbai, India</td>\n",
       "      <td>2015-01-28</td>\n",
       "      <td>Gold</td>\n",
       "      <td>Bills</td>\n",
       "      <td>F</td>\n",
       "      <td>654519</td>\n",
       "      <td>2015</td>\n",
       "      <td>2015-01-28</td>\n",
       "    </tr>\n",
       "    <tr>\n",
       "      <th>349</th>\n",
       "      <td>349</td>\n",
       "      <td>Ahmedabad, India</td>\n",
       "      <td>2014-06-12</td>\n",
       "      <td>Gold</td>\n",
       "      <td>Bills</td>\n",
       "      <td>F</td>\n",
       "      <td>958047</td>\n",
       "      <td>2014</td>\n",
       "      <td>2014-06-12</td>\n",
       "    </tr>\n",
       "    <tr>\n",
       "      <th>351</th>\n",
       "      <td>351</td>\n",
       "      <td>Ahmedabad, India</td>\n",
       "      <td>2013-12-31</td>\n",
       "      <td>Signature</td>\n",
       "      <td>Bills</td>\n",
       "      <td>F</td>\n",
       "      <td>653161</td>\n",
       "      <td>2013</td>\n",
       "      <td>2013-12-31</td>\n",
       "    </tr>\n",
       "  </tbody>\n",
       "</table>\n",
       "<p>224 rows × 9 columns</p>\n",
       "</div>"
      ],
      "text/plain": [
       "     index                   City       Date  Card_Type Exp_Type Gender  \\\n",
       "15      15  Greater Mumbai, India 2014-11-28   Platinum    Bills      F   \n",
       "17      17  Greater Mumbai, India 2015-03-30       Gold    Bills      F   \n",
       "19      19  Greater Mumbai, India 2013-11-09   Platinum    Bills      F   \n",
       "21      21           Delhi, India 2014-07-01  Signature    Bills      F   \n",
       "22      22  Greater Mumbai, India 2015-03-27     Silver    Bills      F   \n",
       "..     ...                    ...        ...        ...      ...    ...   \n",
       "344    344       Ahmedabad, India 2013-12-07   Platinum    Bills      F   \n",
       "346    346       Ahmedabad, India 2014-06-16     Silver    Bills      F   \n",
       "348    348  Greater Mumbai, India 2015-01-28       Gold    Bills      F   \n",
       "349    349       Ahmedabad, India 2014-06-12       Gold    Bills      F   \n",
       "351    351       Ahmedabad, India 2013-12-31  Signature    Bills      F   \n",
       "\n",
       "     Amount  Year      Month  \n",
       "15   647116  2014 2014-11-28  \n",
       "17   986379  2015 2015-03-30  \n",
       "19   735566  2013 2013-11-09  \n",
       "21   809623  2014 2014-07-01  \n",
       "22   467014  2015 2015-03-27  \n",
       "..      ...   ...        ...  \n",
       "344  515263  2013 2013-12-07  \n",
       "346  934683  2014 2014-06-16  \n",
       "348  654519  2015 2015-01-28  \n",
       "349  958047  2014 2014-06-12  \n",
       "351  653161  2013 2013-12-31  \n",
       "\n",
       "[224 rows x 9 columns]"
      ]
     },
     "execution_count": 47,
     "metadata": {},
     "output_type": "execute_result"
    }
   ],
   "source": [
    "df[df['Amount']>a]"
   ]
  },
  {
   "cell_type": "code",
   "execution_count": 48,
   "id": "e0d18ed4-2039-4fc5-9054-1d3460617473",
   "metadata": {},
   "outputs": [
    {
     "data": {
      "text/plain": [
       "Gender\n",
       "F    161206.946637\n",
       "M    151109.145086\n",
       "Name: Amount, dtype: float64"
      ]
     },
     "execution_count": 48,
     "metadata": {},
     "output_type": "execute_result"
    }
   ],
   "source": [
    "df.groupby('Gender')['Amount'].mean()"
   ]
  },
  {
   "cell_type": "code",
   "execution_count": 49,
   "id": "455f62b9-9075-4eb5-a36b-ef3df8877d10",
   "metadata": {},
   "outputs": [
    {
     "data": {
      "text/plain": [
       "Exp_Type       Gender\n",
       "Bills          F         202809.604545\n",
       "               M         147446.800721\n",
       "Entertainment  F         150446.028943\n",
       "               M         154656.939865\n",
       "Food           F         150337.742032\n",
       "               M         151736.731946\n",
       "Fuel           F         149897.753535\n",
       "               M         150323.257576\n",
       "Grocery        F         150595.962932\n",
       "               M         151573.914445\n",
       "Travel         F         147402.453826\n",
       "               M         148718.888579\n",
       "Name: Amount, dtype: float64"
      ]
     },
     "execution_count": 49,
     "metadata": {},
     "output_type": "execute_result"
    }
   ],
   "source": [
    "df.groupby(['Exp_Type','Gender'])['Amount'].mean()"
   ]
  },
  {
   "cell_type": "code",
   "execution_count": 50,
   "id": "ad645c30-c763-4148-841b-8439aa25d690",
   "metadata": {},
   "outputs": [
    {
     "data": {
      "image/png": "[encoded data removed]",
      "text/plain": [
       "<Figure size 640x480 with 1 Axes>"
      ]
     },
     "metadata": {},
     "output_type": "display_data"
    }
   ],
   "source": [
    "sb.countplot(x=df.Exp_Type)\n",
    "plt.show()             "
   ]
  },
  {
   "cell_type": "code",
   "execution_count": 51,
   "id": "3d1816e8-663d-44f7-8c9b-1d5a5dce1d45",
   "metadata": {},
   "outputs": [
    {
     "data": {
      "text/plain": [
       "City\n",
       "Bengaluru, India         3552\n",
       "Greater Mumbai, India    3493\n",
       "Ahmedabad, India         3491\n",
       "Delhi, India             3482\n",
       "Hyderabad, India          784\n",
       "Chennai, India            774\n",
       "Kolkata, India            773\n",
       "Kanpur, India             764\n",
       "Lucknow, India            759\n",
       "Jaipur, India             752\n",
       "Name: count, dtype: int64"
      ]
     },
     "execution_count": 51,
     "metadata": {},
     "output_type": "execute_result"
    }
   ],
   "source": [
    "df['City'].value_counts().nlargest(10)"
   ]
  },
  {
   "cell_type": "code",
   "execution_count": 53,
   "id": "40af4c04-6f49-4fe9-87f1-4a0a0bf7a034",
   "metadata": {},
   "outputs": [
    {
     "data": {
      "text/plain": [
       "Exp_Type\n",
       "Bills            178627.899370\n",
       "Entertainment    152548.831583\n",
       "Grocery          151074.447413\n",
       "Food             150965.405272\n",
       "Fuel             150111.436371\n",
       "Travel           148042.833333\n",
       "Name: Amount, dtype: float64"
      ]
     },
     "execution_count": 53,
     "metadata": {},
     "output_type": "execute_result"
    }
   ],
   "source": [
    "df.groupby('Exp_Type')['Amount'].mean().sort_values(ascending=False)\n"
   ]
  },
  {
   "cell_type": "code",
   "execution_count": 54,
   "id": "3bedcb7b-63e4-45f8-8439-05168f38f536",
   "metadata": {},
   "outputs": [
    {
     "data": {
      "text/html": [
       "<div>\n",
       "<style scoped>\n",
       "    .dataframe tbody tr th:only-of-type {\n",
       "        vertical-align: middle;\n",
       "    }\n",
       "\n",
       "    .dataframe tbody tr th {\n",
       "        vertical-align: top;\n",
       "    }\n",
       "\n",
       "    .dataframe thead th {\n",
       "        text-align: right;\n",
       "    }\n",
       "</style>\n",
       "<table border=\"1\" class=\"dataframe\">\n",
       "  <thead>\n",
       "    <tr style=\"text-align: right;\">\n",
       "      <th>Exp_Type</th>\n",
       "      <th>Bills</th>\n",
       "      <th>Entertainment</th>\n",
       "      <th>Food</th>\n",
       "      <th>Fuel</th>\n",
       "      <th>Grocery</th>\n",
       "      <th>Travel</th>\n",
       "    </tr>\n",
       "    <tr>\n",
       "      <th>Card_Type</th>\n",
       "      <th></th>\n",
       "      <th></th>\n",
       "      <th></th>\n",
       "      <th></th>\n",
       "      <th></th>\n",
       "      <th></th>\n",
       "    </tr>\n",
       "  </thead>\n",
       "  <tbody>\n",
       "    <tr>\n",
       "      <th>Gold</th>\n",
       "      <td>1256</td>\n",
       "      <td>1143</td>\n",
       "      <td>1322</td>\n",
       "      <td>1315</td>\n",
       "      <td>1119</td>\n",
       "      <td>212</td>\n",
       "    </tr>\n",
       "    <tr>\n",
       "      <th>Platinum</th>\n",
       "      <td>1229</td>\n",
       "      <td>1187</td>\n",
       "      <td>1371</td>\n",
       "      <td>1302</td>\n",
       "      <td>1130</td>\n",
       "      <td>179</td>\n",
       "    </tr>\n",
       "    <tr>\n",
       "      <th>Signature</th>\n",
       "      <td>1259</td>\n",
       "      <td>1170</td>\n",
       "      <td>1329</td>\n",
       "      <td>1286</td>\n",
       "      <td>1224</td>\n",
       "      <td>179</td>\n",
       "    </tr>\n",
       "    <tr>\n",
       "      <th>Silver</th>\n",
       "      <td>1334</td>\n",
       "      <td>1262</td>\n",
       "      <td>1441</td>\n",
       "      <td>1354</td>\n",
       "      <td>1281</td>\n",
       "      <td>168</td>\n",
       "    </tr>\n",
       "  </tbody>\n",
       "</table>\n",
       "</div>"
      ],
      "text/plain": [
       "Exp_Type   Bills  Entertainment  Food  Fuel  Grocery  Travel\n",
       "Card_Type                                                   \n",
       "Gold        1256           1143  1322  1315     1119     212\n",
       "Platinum    1229           1187  1371  1302     1130     179\n",
       "Signature   1259           1170  1329  1286     1224     179\n",
       "Silver      1334           1262  1441  1354     1281     168"
      ]
     },
     "execution_count": 54,
     "metadata": {},
     "output_type": "execute_result"
    }
   ],
   "source": [
    "pd.crosstab(df['Card_Type'],df['Exp_Type'])"
   ]
  },
  {
   "cell_type": "code",
   "execution_count": null,
   "id": "9661cacb-3655-4bb8-92b7-8bf2a00e7053",
   "metadata": {},
   "outputs": [],
   "source": []
  }
 ],
 "metadata": {
  "kernelspec": {
   "display_name": "Python 3 (ipykernel)",
   "language": "python",
   "name": "python3"
  },
  "language_info": {
   "codemirror_mode": {
    "name": "ipython",
    "version": 3
   },
   "file_extension": ".py",
   "mimetype": "text/x-python",
   "name": "python",
   "nbconvert_exporter": "python",
   "pygments_lexer": "ipython3",
   "version": "3.12.7"
  }
 },
 "nbformat": 4,
 "nbformat_minor": 5
}
